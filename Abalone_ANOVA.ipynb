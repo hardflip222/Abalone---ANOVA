{
  "nbformat": 4,
  "nbformat_minor": 0,
  "metadata": {
    "colab": {
      "name": "Abalone-ANOVA.ipynb",
      "provenance": [],
      "collapsed_sections": [],
      "machine_shape": "hm"
    },
    "kernelspec": {
      "name": "python3",
      "display_name": "Python 3"
    }
  },
  "cells": [
    {
      "cell_type": "markdown",
      "metadata": {
        "id": "4WybxaE1kKhX",
        "colab_type": "text"
      },
      "source": [
        "ANOVA for Abalone dataset"
      ]
    },
    {
      "cell_type": "markdown",
      "metadata": {
        "id": "wCQ91tESmC5c",
        "colab_type": "text"
      },
      "source": [
        "There are 3 assumptions that need to be met for the results of an ANOVA test to be considered accurate and trust worthy. It’s important to note the the assumptions apply to the residuals and not the variables themselves. The ANOVA assumptions are the same as for linear regression and are:\n",
        "\n",
        "\n",
        "1.   Normality\n",
        "2.   Homogeneity of variance\n",
        "3.   Independent observations\n",
        "\n"
      ]
    },
    {
      "cell_type": "markdown",
      "metadata": {
        "id": "jR8WXjL0TodA",
        "colab_type": "text"
      },
      "source": [
        "Dane, które postanowiliśmy analizować to dane dotyczące uchowców. Na początek postanowiliśmy sprawdzić czy długość uchowca ma wpływ na jego płeć. Na początek wczytujemy dane i wybieramy po 1000 próbek dla każdej z płci."
      ]
    },
    {
      "cell_type": "code",
      "metadata": {
        "id": "ghyhIvlGxlZO",
        "colab_type": "code",
        "outputId": "496513ce-1540-4f4b-d191-27a55cc30abc",
        "colab": {
          "base_uri": "https://localhost:8080/",
          "height": 255
        }
      },
      "source": [
        "import pandas as pd\n",
        "\n",
        "data_url='https://raw.githubusercontent.com/codevibess/abalone-anova/master/data/abalone.data'\n",
        "df = pd.read_csv(data_url)\n",
        "a = df[df.Sex == \"M\"].head(1000)\n",
        "b = df[df.Sex == 'F'].head(1000)\n",
        "c = df[df.Sex == 'I'].head(1000)\n",
        "df = a.append(b).append(c)\n",
        "\n",
        "print(df)"
      ],
      "execution_count": 0,
      "outputs": [
        {
          "output_type": "stream",
          "text": [
            "     Sex  Length  Diameter  ...  Viscera weight  Shell weight  Rings\n",
            "0      M   0.455     0.365  ...          0.1010        0.1500     15\n",
            "1      M   0.350     0.265  ...          0.0485        0.0700      7\n",
            "3      M   0.440     0.365  ...          0.1140        0.1550     10\n",
            "8      M   0.475     0.370  ...          0.1125        0.1650      9\n",
            "11     M   0.430     0.350  ...          0.0810        0.1350     10\n",
            "...   ..     ...       ...  ...             ...           ...    ...\n",
            "3106   I   0.300     0.220  ...          0.0260        0.0315      5\n",
            "3107   I   0.370     0.275  ...          0.0505        0.0680      5\n",
            "3108   I   0.375     0.285  ...          0.0400        0.0725      7\n",
            "3109   I   0.380     0.290  ...          0.0465        0.0750      7\n",
            "3110   I   0.395     0.300  ...          0.0680        0.0895      8\n",
            "\n",
            "[3000 rows x 9 columns]\n"
          ],
          "name": "stdout"
        }
      ]
    },
    {
      "cell_type": "markdown",
      "metadata": {
        "id": "vNZBOnRzWfw7",
        "colab_type": "text"
      },
      "source": [
        "Następnie dzielimy dane na grupy oraz wyznaczamy ilość danych oraz ilosć w poszczególnych grupach"
      ]
    },
    {
      "cell_type": "code",
      "metadata": {
        "id": "CofaWZVHXmGy",
        "colab_type": "code",
        "colab": {}
      },
      "source": [
        "groups = pd.unique(df.Sex.values)\n",
        "data = {g:df['Length'][df.Sex == g] for g in groups}\n",
        "\n",
        "k = len(pd.unique(df.Sex))\n",
        "N = len(df.values)\n",
        "n1, n2, n3 = df.groupby('Sex').size()\n"
      ],
      "execution_count": 0,
      "outputs": []
    },
    {
      "cell_type": "markdown",
      "metadata": {
        "id": "uaMhtXDzX2FA",
        "colab_type": "text"
      },
      "source": [
        "Kolejnym krokiem jest wyznaczenie statystyki testowej F oraz wartosći p-value korzystając z biblioteki SciPy"
      ]
    },
    {
      "cell_type": "code",
      "metadata": {
        "id": "1Z-_6-BEX_CM",
        "colab_type": "code",
        "outputId": "84e93bc6-605f-4495-a6bb-6fa51bd0d73f",
        "colab": {
          "base_uri": "https://localhost:8080/",
          "height": 34
        }
      },
      "source": [
        "#Anova korzystając z SciPy\n",
        "\n",
        "from scipy import stats\n",
        "\n",
        "F, p = stats.f_oneway(data['M'], data['F'], data['I'])\n",
        "\n",
        "print(\"F = \",F, \"prawdopodobieństwo hipotezy zerowej = \",p)\n",
        "\n",
        "#prawdopodobieństwo hipotezy zerowej wyszło 3.0881829496997467e-232, oznacza to, że średnia długość uchowca róźni się miedzy grupami "
      ],
      "execution_count": 0,
      "outputs": [
        {
          "output_type": "stream",
          "text": [
            "F =  640.2077341389622 prawdopodobieństwo hipotezy zerowej =  3.0881829496997467e-232\n"
          ],
          "name": "stdout"
        }
      ]
    },
    {
      "cell_type": "markdown",
      "metadata": {
        "id": "BS8JimEiYJzz",
        "colab_type": "text"
      },
      "source": [
        "Możemy zauważyć, że \n",
        "Kolejnym krokiem było analizy wariancji bez uzycia biblioteki SciPy"
      ]
    },
    {
      "cell_type": "code",
      "metadata": {
        "id": "jmI9ntAUYU8z",
        "colab_type": "code",
        "outputId": "eb1acb61-50f6-4e09-cfc4-e14893f0d7bb",
        "colab": {
          "base_uri": "https://localhost:8080/",
          "height": 111
        }
      },
      "source": [
        "#teraz anova bez biblioteki\n",
        "#njpierw obliczamy stopnie swobody\n",
        "DFbetween = k - 1\n",
        "DFwithin = N - k\n",
        "DFtotal = N - 1\n",
        "\n",
        "#suma kwadratów odchyleń pomiędzy grupami\n",
        "\n",
        "SSbetween  = (sum(df.groupby(['Sex']).sum()['Length']**2)/n1)- (df['Length'].sum()**2)/N\n",
        "\n",
        "#print(\"SSBetween: \"+str(SSbetween))\n",
        "#suma kwadratów odchyleń wewnątrzgrupowych\n",
        "sum_y_squared = sum([value**2 for value in df['Length'].values])\n",
        "SSwithin = sum_y_squared - sum(df.groupby('Sex').sum()['Length']**2)/n1\n",
        "#print(\"SSWithin: \"+str(SSwithin))\n",
        "# Ogólnie\n",
        "SStotal = sum_y_squared - (df['Length'].sum()**2)/N\n",
        "#średnie kwadraty odchyleń\n",
        "MSbetween = SSbetween/DFbetween\n",
        "MSwithin = SSwithin/DFwithin\n",
        "\n",
        "#Wartość F statystyki testowej\n",
        "F = MSbetween/MSwithin\n",
        "\n",
        "#p-value\n",
        "p = stats.f.sf(F, DFbetween, DFwithin)\n",
        "\n",
        "eta_sqrd = SSbetween/SStotal\n",
        "om_sqrd = (SSbetween - (DFbetween * MSwithin))/(SStotal + MSwithin)\n",
        "\n",
        "results = {'sum_sq':[SSbetween, SSwithin],\n",
        "           'df':[DFbetween, DFwithin],\n",
        "           'F':[F, ''],\n",
        "            'PR(>F)':[p, ''],\n",
        "          'EtaSq':[eta_sqrd, ''],\n",
        "          'OmegaSq':[om_sqrd, '']}\n",
        "\n",
        "aov_table1 = pd.DataFrame(results, \n",
        "                          index=['Group', 'Residual'])\n",
        "    \n",
        "aov_table1\n"
      ],
      "execution_count": 0,
      "outputs": [
        {
          "output_type": "execute_result",
          "data": {
            "text/html": [
              "<div>\n",
              "<style scoped>\n",
              "    .dataframe tbody tr th:only-of-type {\n",
              "        vertical-align: middle;\n",
              "    }\n",
              "\n",
              "    .dataframe tbody tr th {\n",
              "        vertical-align: top;\n",
              "    }\n",
              "\n",
              "    .dataframe thead th {\n",
              "        text-align: right;\n",
              "    }\n",
              "</style>\n",
              "<table border=\"1\" class=\"dataframe\">\n",
              "  <thead>\n",
              "    <tr style=\"text-align: right;\">\n",
              "      <th></th>\n",
              "      <th>sum_sq</th>\n",
              "      <th>df</th>\n",
              "      <th>F</th>\n",
              "      <th>PR(&gt;F)</th>\n",
              "      <th>EtaSq</th>\n",
              "      <th>OmegaSq</th>\n",
              "    </tr>\n",
              "  </thead>\n",
              "  <tbody>\n",
              "    <tr>\n",
              "      <th>Group</th>\n",
              "      <td>13.191573</td>\n",
              "      <td>2</td>\n",
              "      <td>640.208</td>\n",
              "      <td>3.08818e-232</td>\n",
              "      <td>0.299343</td>\n",
              "      <td>0.298806</td>\n",
              "    </tr>\n",
              "    <tr>\n",
              "      <th>Residual</th>\n",
              "      <td>30.876809</td>\n",
              "      <td>2997</td>\n",
              "      <td></td>\n",
              "      <td></td>\n",
              "      <td></td>\n",
              "      <td></td>\n",
              "    </tr>\n",
              "  </tbody>\n",
              "</table>\n",
              "</div>"
            ],
            "text/plain": [
              "             sum_sq    df        F        PR(>F)     EtaSq   OmegaSq\n",
              "Group     13.191573     2  640.208  3.08818e-232  0.299343  0.298806\n",
              "Residual  30.876809  2997                                           "
            ]
          },
          "metadata": {
            "tags": []
          },
          "execution_count": 5
        }
      ]
    },
    {
      "cell_type": "markdown",
      "metadata": {
        "id": "0-6A9tD8YsOj",
        "colab_type": "text"
      },
      "source": [
        "Następnie przeprowadzamy analizę pomiędzy poszczególnymi grupami. Analiza zostaje przeprowadzona na poziomie ufności 99%. "
      ]
    },
    {
      "cell_type": "code",
      "metadata": {
        "id": "lFeUdJxiYxu9",
        "colab_type": "code",
        "outputId": "b5ecab64-4b51-4955-8913-c20d1df55f8a",
        "colab": {
          "base_uri": "https://localhost:8080/",
          "height": 153
        }
      },
      "source": [
        "#Teraz sprawdzimy poszczególne grupy\n",
        "\n",
        "from statsmodels.stats.multicomp import (pairwise_tukeyhsd,\n",
        "                                         MultiComparison)\n",
        "\n",
        "MultiComp = MultiComparison(df['Length'],\n",
        "                            df['Sex'])\n",
        "\n",
        "\n",
        "print(MultiComp.tukeyhsd(0.01).summary())\n",
        "\n",
        "#Widać na podstawie danych, że średnie miedzy poszczególnymi grupami róźnią się od siebie na poziomie ufnośći 99%"
      ],
      "execution_count": 0,
      "outputs": [
        {
          "output_type": "stream",
          "text": [
            "Multiple Comparison of Means - Tukey HSD, FWER=0.01\n",
            "===================================================\n",
            "group1 group2 meandiff p-adj  lower   upper  reject\n",
            "---------------------------------------------------\n",
            "     F      I  -0.1513 0.001 -0.1645 -0.1381   True\n",
            "     F      M  -0.0245 0.001 -0.0377 -0.0113   True\n",
            "     I      M   0.1268 0.001  0.1136    0.14   True\n",
            "---------------------------------------------------\n"
          ],
          "name": "stdout"
        }
      ]
    },
    {
      "cell_type": "markdown",
      "metadata": {
        "id": "O31eTW2ObodN",
        "colab_type": "text"
      },
      "source": [
        "Mimo tak dużego poziomu ufności widać, że możemy odrzucić hipotezę, że średnie są równe między sobą. Oznacza to, że długość uchowca doskonale określa płeć uchowca. Ponizej przedstawiamy wykresy pudełkowe dla poszczególnych płci:"
      ]
    },
    {
      "cell_type": "code",
      "metadata": {
        "id": "XNod4mT9b0SK",
        "colab_type": "code",
        "outputId": "ab0c4416-fb9c-40c2-e2b3-c7e45d681d08",
        "colab": {
          "base_uri": "https://localhost:8080/",
          "height": 557
        }
      },
      "source": [
        "df.boxplot('Length', by='Sex', figsize=(12, 8))"
      ],
      "execution_count": 0,
      "outputs": [
        {
          "output_type": "execute_result",
          "data": {
            "text/plain": [
              "<matplotlib.axes._subplots.AxesSubplot at 0x7f561912a6a0>"
            ]
          },
          "metadata": {
            "tags": []
          },
          "execution_count": 108
        },
        {
          "output_type": "display_data",
          "data": {
            "image/png": "[encoded data removed]",
            "text/plain": [
              "<Figure size 864x576 with 1 Axes>"
            ]
          },
          "metadata": {
            "tags": []
          }
        }
      ]
    },
    {
      "cell_type": "markdown",
      "metadata": {
        "id": "m14MJjLRcON4",
        "colab_type": "text"
      },
      "source": [
        "Możemy zauważyć , że najbardziej zbliżone są do siebie płeć męska i żeńska. Ogólnie mamt też mało obserwacji nietypowych. Jednak najwięcej jest ich dla płci męskiej. Jeżeli będziemy klasyfikować płeć uchowca na podstawie jego długosci to niektóre płci męskie i żeńskie będziemy klasyfikować jako dziecko."
      ]
    },
    {
      "cell_type": "markdown",
      "metadata": {
        "id": "COFkrTsUeA0t",
        "colab_type": "text"
      },
      "source": [
        "Teraz przeprowadzimy 1 czynnikową analizę wariancji ze wzgledu na wysokość uchowca"
      ]
    },
    {
      "cell_type": "code",
      "metadata": {
        "id": "pjJCDev3cuXo",
        "colab_type": "code",
        "outputId": "c4807cc8-e761-4b8d-c42e-b25080d23108",
        "colab": {
          "base_uri": "https://localhost:8080/",
          "height": 170
        }
      },
      "source": [
        "groups = pd.unique(df.Sex.values)\n",
        "data = {g:df['Height'][df.Sex == g] for g in groups}\n",
        "\n",
        "k = len(pd.unique(df.Sex))\n",
        "N = len(df.values)\n",
        "n1, n2, n3 = df.groupby('Sex').size()\n",
        "\n",
        "#Anova korzystając z SciPy\n",
        "\n",
        "from scipy import stats\n",
        "\n",
        "F, p = stats.f_oneway(data['M'], data['F'], data['I'])\n",
        "\n",
        "print(\"F = \",F, \"prawdopodobieństwo hipotezy zerowej = \",p)\n",
        "\n",
        "\n",
        "MultiComp = MultiComparison(df['Height'],\n",
        "                            df['Sex'])\n",
        "\n",
        "\n",
        "print(MultiComp.tukeyhsd(0.01).summary())\n"
      ],
      "execution_count": 0,
      "outputs": [
        {
          "output_type": "stream",
          "text": [
            "F =  521.5486634576289 prawdopodobieństwo hipotezy zerowej =  4.334418114792542e-195\n",
            "Multiple Comparison of Means - Tukey HSD, FWER=0.01\n",
            "===================================================\n",
            "group1 group2 meandiff p-adj  lower   upper  reject\n",
            "---------------------------------------------------\n",
            "     F      I  -0.0503 0.001 -0.0552 -0.0455   True\n",
            "     F      M  -0.0081 0.001  -0.013 -0.0032   True\n",
            "     I      M   0.0423 0.001  0.0374  0.0472   True\n",
            "---------------------------------------------------\n"
          ],
          "name": "stdout"
        }
      ]
    },
    {
      "cell_type": "markdown",
      "metadata": {
        "id": "btt5ISFMezNL",
        "colab_type": "text"
      },
      "source": [
        "Mimo tak dużego poziomu ufności widać, że możemy odrzucić hipotezę, że średnie są równe między sobą. Oznacza to, że Wysokość uchowca doskonale określa płeć uchowca. Ponizej przedstawiamy wykresy pudełkowe dla poszczególnych płci:"
      ]
    },
    {
      "cell_type": "code",
      "metadata": {
        "id": "RaOCCYnAeyvL",
        "colab_type": "code",
        "outputId": "8e3a5327-1696-46d7-e79a-cf0cce21d638",
        "colab": {
          "base_uri": "https://localhost:8080/",
          "height": 557
        }
      },
      "source": [
        "df.boxplot('Height', by='Sex', figsize=(12, 8))"
      ],
      "execution_count": 0,
      "outputs": [
        {
          "output_type": "execute_result",
          "data": {
            "text/plain": [
              "<matplotlib.axes._subplots.AxesSubplot at 0x7f56191152b0>"
            ]
          },
          "metadata": {
            "tags": []
          },
          "execution_count": 112
        },
        {
          "output_type": "display_data",
          "data": {
            "image/png": "[encoded data removed]",
            "text/plain": [
              "<Figure size 864x576 with 1 Axes>"
            ]
          },
          "metadata": {
            "tags": []
          }
        }
      ]
    },
    {
      "cell_type": "markdown",
      "metadata": {
        "id": "GB74UI6KfLs4",
        "colab_type": "text"
      },
      "source": [
        "Możemy zauważyć , że najbardziej zbliżone są do siebie płeć męska i żeńska tak jak w przypadku długości Ogólnie mamy też mało obserwacji nietypowych. Jednak najwięcej jest ich dla płci męskiej jak w przypadku długości. Jeżeli będziemy klasyfikować płeć uchowca na podstawie jego długosci to niektóre płci męskie i żeńskie będziemy klasyfikować jako dziecko."
      ]
    },
    {
      "cell_type": "code",
      "metadata": {
        "id": "8fc_GkVDftpl",
        "colab_type": "code",
        "colab": {}
      },
      "source": [
        ""
      ],
      "execution_count": 0,
      "outputs": []
    },
    {
      "cell_type": "markdown",
      "metadata": {
        "id": "ja5rhGhxf4ed",
        "colab_type": "text"
      },
      "source": [
        "Teraz przeprowadzimy 1 czynnikową analizę wariancji ze wzgledu na pierścień uchowca"
      ]
    },
    {
      "cell_type": "code",
      "metadata": {
        "id": "qSwjrswUgMaT",
        "colab_type": "code",
        "outputId": "28982b5d-e27b-4757-9154-33ca40f5e626",
        "colab": {
          "base_uri": "https://localhost:8080/",
          "height": 170
        }
      },
      "source": [
        "groups = pd.unique(df.Sex.values)\n",
        "data = {g:df['Rings'][df.Sex == g] for g in groups}\n",
        "\n",
        "k = len(pd.unique(df.Sex))\n",
        "N = len(df.values)\n",
        "n1, n2, n3 = df.groupby('Sex').size()\n",
        "\n",
        "#Anova korzystając z SciPy\n",
        "\n",
        "from scipy import stats\n",
        "\n",
        "F, p = stats.f_oneway(data['M'], data['F'], data['I'])\n",
        "\n",
        "print(\"F = \",F, \"prawdopodobieństwo hipotezy zerowej = \",p)\n",
        "\n",
        "\n",
        "\n",
        "\n",
        "MultiComp = MultiComparison(df['Rings'],\n",
        "                            df['Sex'])\n",
        "\n",
        "\n",
        "print(MultiComp.tukeyhsd(0.01).summary())"
      ],
      "execution_count": 0,
      "outputs": [
        {
          "output_type": "stream",
          "text": [
            "F =  369.97385454679113 prawdopodobieństwo hipotezy zerowej =  2.502237830311564e-144\n",
            "Multiple Comparison of Means - Tukey HSD, FWER=0.01 \n",
            "====================================================\n",
            "group1 group2 meandiff p-adj   lower   upper  reject\n",
            "----------------------------------------------------\n",
            "     F      I    -3.33  0.001 -3.7221 -2.9379   True\n",
            "     F      M   -0.354 0.0232 -0.7461  0.0381  False\n",
            "     I      M    2.976  0.001  2.5839  3.3681   True\n",
            "----------------------------------------------------\n"
          ],
          "name": "stdout"
        }
      ]
    },
    {
      "cell_type": "markdown",
      "metadata": {
        "id": "VG6fW6J8g8nv",
        "colab_type": "text"
      },
      "source": [
        "Mimo tak dużego poziomu ufności widać, że możemy odrzucić hipotezę, że średnie są równe między sobą. Można stwierdzić jak widać w tabeli, że średnie róźnią się istotnie. Jednak w przypadku porównania średnich w grupie męskiej i żeńskiej nie możemy tego stwierdzić na tym poziomie ufności. Oznacza to, że Wysokość uchowca doskonale określa płeć uchowca poza porównaniem płci męskiej i żeńskiej. Poniżej model pudełkowy:"
      ]
    },
    {
      "cell_type": "code",
      "metadata": {
        "id": "1lALI-MdhTl4",
        "colab_type": "code",
        "outputId": "c796e7fb-6167-4b8d-9770-9dd63a5e68b2",
        "colab": {
          "base_uri": "https://localhost:8080/",
          "height": 557
        }
      },
      "source": [
        "df.boxplot('Rings', by='Sex', figsize=(12, 8))"
      ],
      "execution_count": 0,
      "outputs": [
        {
          "output_type": "execute_result",
          "data": {
            "text/plain": [
              "<matplotlib.axes._subplots.AxesSubplot at 0x7f56191621d0>"
            ]
          },
          "metadata": {
            "tags": []
          },
          "execution_count": 117
        },
        {
          "output_type": "display_data",
          "data": {
            "image/png": "[encoded data removed]",
            "text/plain": [
              "<Figure size 864x576 with 1 Axes>"
            ]
          },
          "metadata": {
            "tags": []
          }
        }
      ]
    },
    {
      "cell_type": "markdown",
      "metadata": {
        "id": "aYkNclZQhbjy",
        "colab_type": "text"
      },
      "source": [
        "Możemy zauważyć, że najbardziej zbliżone są do siebie płeć męska i żeńska, co może tłumaczyć, że nie nie możemy odrzucić hipotezy zerowej na korzyść hipotezy alternatywnej. Mamy tez trochę wartosci nietypowych jednak są one równomierne dla każdej płci."
      ]
    },
    {
      "cell_type": "markdown",
      "metadata": {
        "id": "eTkfcg6RmcNb",
        "colab_type": "text"
      },
      "source": [
        "Two way anova nie jest dobra dla naszych danych, ponieważ tak naprawdę mamy tylko jedną cechę, która może być etykietą do klasyfykacji. Przejdziemy teraz do analizy składowych głównych, czyli metodę kompresji danych poprzez redukcję wymiarowości. Dzięki redukcji wymiarowości oszczędzamy pamięć, osiągamy lepszą skuteczność oblczeniową algorytmów oraz możemy też uzyskać lepszą wydajność predykcyjną poprzez ograniczenie tzw \"klątwy wymiarowości\". "
      ]
    },
    {
      "cell_type": "markdown",
      "metadata": {
        "id": "gl33xoMp5ZZW",
        "colab_type": "text"
      },
      "source": [
        "Zadaniem PCA jest wyszukiwanie kierunków maksymalnej wariancji w wielowymiarowej przestrzeni i rzutowanie ich na nową podprzestrzeń zawierającą tyle samo lub mniej wymiarów. PCA składa się z kilku etapów:\n",
        "1. Standaryzacja danych\n",
        "2. Utworzenie macierzy kowariancji\n",
        "3. Rozkład macierzy kowariancji na wektory własne i wartości własne\n",
        "4. Szeregowanie malejąco wartości własnych tak, aby pasowały do wektorów własnych\n",
        "5.Wybór k wektorów własnych odpowiadających k największym wartościom własnym, gdzie k oznacza wymiarowość nowej podprzestrzeni cech.\n",
        "6. Utworzenie macierzy rzutowania W z k najlepszych wektorów własnych\n",
        "7. Przekształcenie d-wymiarowego początkowego zbioru danych X za pomocą rzutowania W w celu uzyskania nowej k-wymiarowej podprzestrzeni cech."
      ]
    },
    {
      "cell_type": "markdown",
      "metadata": {
        "id": "eZIMiyXH8_3N",
        "colab_type": "text"
      },
      "source": [
        "Zaczniemy od standaryzacji"
      ]
    },
    {
      "cell_type": "code",
      "metadata": {
        "id": "AIf9D0AU9CGH",
        "colab_type": "code",
        "colab": {}
      },
      "source": [
        "data_url='https://raw.githubusercontent.com/codevibess/abalone-anova/master/data/abalone.data'\n",
        "df = pd.read_csv(data_url)\n",
        "a = df[df.Sex == \"M\"].head(1000)\n",
        "b = df[df.Sex == 'F'].head(1000)\n",
        "c = df[df.Sex == 'I'].head(1000)\n",
        "df = a.append(b).append(c)\n",
        "\n",
        "from sklearn.model_selection import train_test_split\n",
        "X, y = df.iloc[:, 1:].values, df.iloc[:, 0].values\n",
        "\n",
        "#Dzielimy dane na 70% uczącyh i 30% testowych\n",
        "\n",
        "X_train, X_test, y_train, y_test = train_test_split(X, y, test_size=0.3, stratify=y, random_state=0)\n",
        "\n",
        "#standaryzacja\n",
        "from sklearn.preprocessing import StandardScaler\n",
        "sc = StandardScaler()\n",
        "X_train_std = sc.fit_transform(X_train)\n",
        "X_test_std = sc.fit_transform(X_test)"
      ],
      "execution_count": 0,
      "outputs": []
    },
    {
      "cell_type": "markdown",
      "metadata": {
        "id": "HOPlcDFr_DWt",
        "colab_type": "text"
      },
      "source": [
        "Następny etap to stworzenie macierz kowariancji oraz wyznacznie wartości własnych i wektory własnych"
      ]
    },
    {
      "cell_type": "code",
      "metadata": {
        "id": "Cpuih-gV_G1N",
        "colab_type": "code",
        "outputId": "1eed50b0-b352-43ba-da0a-08ec38cdc55e",
        "colab": {
          "base_uri": "https://localhost:8080/",
          "height": 323
        }
      },
      "source": [
        "import numpy as np\n",
        "\n",
        "m_cov = np.cov(X_train_std.T)\n",
        "e_val, e_vecs = np.linalg.eig(m_cov)\n",
        "print(f\"Wartości własne {e_val}\")\n",
        "print(f\"Wektory własne {e_vecs}\")"
      ],
      "execution_count": 0,
      "outputs": [
        {
          "output_type": "stream",
          "text": [
            "Wartości własne [6.64219723e+00 6.87355072e-01 3.38443347e-01 1.74023294e-01\n",
            " 8.17291891e-02 6.25698289e-02 1.13233164e-02 6.17006155e-03]\n",
            "Wektory własne [[-3.73418637e-01 -7.51721262e-02  2.82402859e-02 -6.09376734e-01\n",
            "  -1.26621766e-02  2.21515805e-02 -6.94314516e-01  6.81801179e-03]\n",
            " [-3.74962196e-01 -4.51644005e-02  1.99388601e-02 -5.82566901e-01\n",
            "   4.57978760e-02  1.68202764e-03  7.17943441e-01  6.22232265e-03]\n",
            " [-3.24460026e-01  8.68643796e-02 -9.28421419e-01  1.56400547e-01\n",
            "  -2.44973769e-02 -7.60583196e-03 -9.72269945e-03  5.54484620e-04]\n",
            " [-3.80292066e-01 -1.36801328e-01  1.65762866e-01  2.67183960e-01\n",
            "   2.98846453e-02 -1.08359065e-01 -4.05510400e-03  8.51555942e-01]\n",
            " [-3.63926544e-01 -3.05719772e-01  1.54340282e-01  2.37802436e-01\n",
            "  -4.17754804e-01 -6.12420062e-01  1.07472899e-02 -3.79511604e-01]\n",
            " [-3.70642845e-01 -1.78588094e-01  1.58253164e-01  2.62661629e-01\n",
            "  -3.00340064e-01  7.79036041e-01  2.29741333e-02 -1.97650853e-01]\n",
            " [-3.72820699e-01  5.29882213e-02  1.56764440e-01  2.52985866e-01\n",
            "   8.21606718e-01 -4.10902345e-02 -4.01477032e-02 -3.02129429e-01]\n",
            " [-2.47490582e-01  9.15359638e-01  1.89528870e-01  6.23251531e-02\n",
            "  -2.37672422e-01 -6.37420509e-02 -1.08830226e-02 -1.97448278e-02]]\n"
          ],
          "name": "stdout"
        }
      ]
    },
    {
      "cell_type": "markdown",
      "metadata": {
        "id": "GXraKtAXAjcJ",
        "colab_type": "text"
      },
      "source": [
        "Chcemy zmniejszyć wymiarowść zestawu danych kompresując go do nowej podprzestrzeni cech, dlatego interesuje nas jedynie podzbiór wektorów własnych czyli główych składowych zawierających najwięcej informacji czyli wariancję. Wartości włąsne definiują rozmiar wektorów własnych dlatego szeregujemmy je w kolejnośći malejącej. Będziemy szukać k najwiekszych wektorów. Zanim to zrobimy narysujemy wykres współczynników wariancji wyjaśnionej dla wartości własnych."
      ]
    },
    {
      "cell_type": "code",
      "metadata": {
        "id": "vEOBnEGPBm1h",
        "colab_type": "code",
        "outputId": "a07f9961-880b-40ca-b48d-58a96ddd75ff",
        "colab": {
          "base_uri": "https://localhost:8080/",
          "height": 280
        }
      },
      "source": [
        "tot = sum(e_val)\n",
        "var_exp = [(i/tot) for i in sorted(e_val, reverse=True)]\n",
        "cum_var_exp = np.cumsum(var_exp)\n",
        "\n",
        "\n",
        "import matplotlib.pyplot as plt\n",
        "\n",
        "plt.bar(range(1,9), var_exp, alpha=0.5, align='center', label = 'Pojedyncza wariancja wyjaśniona')\n",
        "plt.step(range(1,9), cum_var_exp, where='mid', label='łączna wariancja wyjaśniona')\n",
        "plt.ylabel('Wsþólczynnik wariancji wyjaśnionej')\n",
        "plt.xlabel('Indeks głównej składowej')\n",
        "plt.legend(loc='best')\n",
        "plt.show()"
      ],
      "execution_count": 0,
      "outputs": [
        {
          "output_type": "display_data",
          "data": {
            "image/png": "[encoded data removed]",
            "text/plain": [
              "<Figure size 432x288 with 1 Axes>"
            ]
          },
          "metadata": {
            "tags": []
          }
        }
      ]
    },
    {
      "cell_type": "markdown",
      "metadata": {
        "id": "6xo3bz1iETce",
        "colab_type": "text"
      },
      "source": [
        "Możemy zauważyć, że sama pierwsza składowa stanowi ponad 80% wariancji wyjaśnionej."
      ]
    },
    {
      "cell_type": "markdown",
      "metadata": {
        "id": "H_OK1diKFCkM",
        "colab_type": "text"
      },
      "source": [
        "Teraz zajmiemy się ostatnimi trzema punktami. Wybierzemy k wektorów własnych, co odpowiada k największych wartości własnych. k - wymiarowość podprzestrzeni nowej cechy. Zredukujemy do 2 cech. Następnie stworzymy macierz rzutowania W z najważniejszych 2 - wektorów własnych. Na koniec przekształcimy 8- wymiearowy zestaw danych wejściowych w 2-wymiarową podprzestrzęn cech."
      ]
    },
    {
      "cell_type": "code",
      "metadata": {
        "id": "OSgd10bOGEyU",
        "colab_type": "code",
        "outputId": "20880692-f5ec-4e14-e83b-2de73c27f792",
        "colab": {
          "base_uri": "https://localhost:8080/",
          "height": 153
        }
      },
      "source": [
        "#tworzymy pary (wartość włąsna, wektor własny)\n",
        "e_pairs = [(np.abs(e_val[i]), e_vecs[:, i]) for i in range(len(e_val))]\n",
        "#sortujemy w kolejności malejącej\n",
        "e_pairs.sort(key= lambda k: k[0], reverse=True)\n",
        "\n",
        "#tworzymy macierz W\n",
        "w = np.hstack((e_pairs[0][1][:, np.newaxis], e_pairs[1][1][:, np.newaxis]))\n",
        "print(f\"macierz W: {w}\")"
      ],
      "execution_count": 0,
      "outputs": [
        {
          "output_type": "stream",
          "text": [
            "macierz W: [[-0.37341864 -0.07517213]\n",
            " [-0.3749622  -0.0451644 ]\n",
            " [-0.32446003  0.08686438]\n",
            " [-0.38029207 -0.13680133]\n",
            " [-0.36392654 -0.30571977]\n",
            " [-0.37064285 -0.17858809]\n",
            " [-0.3728207   0.05298822]\n",
            " [-0.24749058  0.91535964]]\n"
          ],
          "name": "stdout"
        }
      ]
    },
    {
      "cell_type": "markdown",
      "metadata": {
        "id": "xG34OyGsH6qs",
        "colab_type": "text"
      },
      "source": [
        "Teraz przenosimy próbkę x (jako wektor 1x8) w potprzestrzeń PCA i uzyskamy dwuwymiarową daną."
      ]
    },
    {
      "cell_type": "code",
      "metadata": {
        "id": "zUbSGsz_IJ8N",
        "colab_type": "code",
        "outputId": "724e35d1-923a-4119-92e4-e8808964ecde",
        "colab": {
          "base_uri": "https://localhost:8080/",
          "height": 136
        }
      },
      "source": [
        "X_train_pca = X_train_std.dot(w)\n",
        "X_test_pca = X_test_std.dot(w)\n",
        "print(X_train_pca)"
      ],
      "execution_count": 0,
      "outputs": [
        {
          "output_type": "stream",
          "text": [
            "[[ 1.24772222  1.27797464]\n",
            " [ 5.372003   -0.28048661]\n",
            " [ 2.14611774  0.83690575]\n",
            " ...\n",
            " [ 1.36022651 -0.16116903]\n",
            " [-1.89334978  1.84357466]\n",
            " [-0.79635667 -0.54953765]]\n"
          ],
          "name": "stdout"
        }
      ]
    },
    {
      "cell_type": "markdown",
      "metadata": {
        "id": "1HLoCpVFIu1t",
        "colab_type": "text"
      },
      "source": [
        "Teraz zwizualizujemy nasze zredukowane dane:"
      ]
    },
    {
      "cell_type": "code",
      "metadata": {
        "id": "SIZpXsgyI0Cx",
        "colab_type": "code",
        "outputId": "bb4655c6-5fb1-4dfb-e97b-823e1cd61da9",
        "colab": {
          "base_uri": "https://localhost:8080/",
          "height": 282
        }
      },
      "source": [
        "colors = ['r', 'b', 'g']\n",
        "markers = ['s','x','o']\n",
        "\n",
        "for l, c, m in zip(np.unique(y_train), colors, markers):\n",
        "    plt.scatter(X_train_pca[y_train==l, 0], X_train_pca[y_train==l, 1], c=c, label=l, marker=m)\n",
        "plt.xlabel(\"GS1\")\n",
        "plt.ylabel(\"GS2\")\n",
        "plt.legend(loc=\"lower left\")\n",
        "plt.show()"
      ],
      "execution_count": 0,
      "outputs": [
        {
          "output_type": "display_data",
          "data": {
            "image/png": "[encoded data removed]",
            "text/plain": [
              "<Figure size 432x288 with 1 Axes>"
            ]
          },
          "metadata": {
            "tags": []
          }
        }
      ]
    },
    {
      "cell_type": "markdown",
      "metadata": {
        "id": "5Ex6DLgwOVO8",
        "colab_type": "text"
      },
      "source": [
        "Widać wyraźnie na wykresie, że mimo zredukowania cech, cięźko będzie klasyfikować dane ponieważ duża część nachodzi na siebie."
      ]
    },
    {
      "cell_type": "markdown",
      "metadata": {
        "id": "t6VDtlhSOwGi",
        "colab_type": "text"
      },
      "source": [
        "Spróbujemy sklasyfikować dane niezredukowane oraz zredukowane żeby zobaczyć czy poprawiła się skuteczność klasyfikacji. Skorzystamy z klasyfikatora KNN"
      ]
    },
    {
      "cell_type": "code",
      "metadata": {
        "id": "065lqS2IO5Fc",
        "colab_type": "code",
        "outputId": "68d4a999-dae5-483c-b34f-5cc3eb906185",
        "colab": {
          "base_uri": "https://localhost:8080/",
          "height": 51
        }
      },
      "source": [
        "from sklearn.neighbors import KNeighborsClassifier\n",
        "\n",
        "knn = KNeighborsClassifier(n_neighbors=5, p=2, metric='minkowski')\n",
        "knn.fit(X_train_std, y_train)\n",
        "\n",
        "print(knn.score(X_test_std, y_test))\n",
        "\n",
        "knn2 = KNeighborsClassifier(n_neighbors=5, p=2, metric='minkowski')\n",
        "knn2.fit(X_train_pca, y_train)\n",
        "\n",
        "print(knn2.score(X_test_pca, y_test))\n"
      ],
      "execution_count": 0,
      "outputs": [
        {
          "output_type": "stream",
          "text": [
            "0.5411111111111111\n",
            "0.49444444444444446\n"
          ],
          "name": "stdout"
        }
      ]
    },
    {
      "cell_type": "markdown",
      "metadata": {
        "id": "ZGEbEdywQ13D",
        "colab_type": "text"
      },
      "source": [
        "Możemy zauważyć, że skuteczność predykcji niestety pogorszyła sie z 55% na 49%. Analiza składowych głównych dla redukcji danych do dwóch cech niestety nie pomogła."
      ]
    },
    {
      "cell_type": "markdown",
      "metadata": {
        "id": "h_AJOn6lRQ6K",
        "colab_type": "text"
      },
      "source": [
        "Podsumowująć analiza wariancji jest bardzo dobrym narzędziem do sprawdzenia czy średnie w wydzielonych grupach róźnią się. Jeżeli tak będzie możemy przypuszczać, że będzie można stworzyć dobry model do klasyfikacji. Analiza składowych głównych pomaga w redukcji wymiarowości , czyli kompresji danych ale także może przyczynić sie do poprawy predykcji. Niestety w naszym przypadku to się nie udało."
      ]
    },
    {
      "cell_type": "code",
      "metadata": {
        "id": "eWhL50f9h_jE",
        "colab_type": "code",
        "outputId": "30b2df05-b29a-4177-bc47-67aac5e529d5",
        "colab": {
          "base_uri": "https://localhost:8080/",
          "height": 945
        }
      },
      "source": [
        "import statsmodels.api as sm\n",
        "from statsmodels.formula.api import ols\n",
        "from statsmodels.stats.anova import anova_lm\n",
        "import pandas as pd\n",
        "import math\n",
        "import matplotlib.pyplot as plt\n",
        "\n",
        "data_url='https://raw.githubusercontent.com/codevibess/abalone-anova/master/data/abalone.data'\n",
        "df = pd.read_csv(data_url,index_col=0)\n",
        "df=df.head(100)\n",
        "print(df)\n",
        "df.replace(to_replace = [1,2,3,4,5,6,7,8], value=0,inplace=True) \n",
        "df.replace(to_replace = [9,10,11,12,13,14,15],value=1, inplace=True) \n",
        "df.replace(to_replace = [16,17,18,19,20,21,22,23,24,25,26,27,28,29,30],value=2, inplace=True) \n",
        "\n",
        "\n",
        "\n",
        "print(df)\n",
        "\n",
        "\n",
        "\n",
        "\n",
        "formula = 'Rings~C(Length)+C(Diameter)+C(Length):C(Diameter)'\n",
        "# model = ols(formula, df.take([0,1,7], axis=1)).fit()\n",
        "model = ols(formula, df.take([7,0,1], axis=1)).fit()\n",
        "aov_table = anova_lm(model, typ=2)\n",
        "\n",
        "print(aov_table)\n",
        "\n",
        "def eta_squared(aov):\n",
        "    aov['eta_sq'] = 'NaN'\n",
        "    aov['eta_sq'] = aov[:-1]['sum_sq']/sum(aov['sum_sq'])\n",
        "    return aov\n",
        "\n",
        "def omega_squared(aov):\n",
        "    mse = aov['sum_sq'][-1]/aov['df'][-1]\n",
        "    aov['omega_sq'] = 'NaN'\n",
        "    aov['omega_sq'] = (aov[:-1]['sum_sq']-(aov[:-1]['df']*mse))/(sum(aov['sum_sq'])+mse)\n",
        "    return aov\n",
        "\n",
        "\n",
        "eta_squared(aov_table)\n",
        "omega_squared(aov_table)\n",
        "\n",
        "# print(aov_table.round(4))\n",
        "\n",
        "res = model.resid \n",
        "fig = sm.qqplot(res, line='s')\n",
        "plt.show()"
      ],
      "execution_count": 0,
      "outputs": [
        {
          "output_type": "stream",
          "text": [
            "     Length  Diameter  Height  ...  Viscera weight  Shell weight  Rings\n",
            "Sex                            ...                                     \n",
            "M     0.455     0.365   0.095  ...          0.1010         0.150     15\n",
            "M     0.350     0.265   0.090  ...          0.0485         0.070      7\n",
            "F     0.530     0.420   0.135  ...          0.1415         0.210      9\n",
            "M     0.440     0.365   0.125  ...          0.1140         0.155     10\n",
            "I     0.330     0.255   0.080  ...          0.0395         0.055      7\n",
            "..      ...       ...     ...  ...             ...           ...    ...\n",
            "M     0.665     0.535   0.195  ...          0.3880         0.480     14\n",
            "M     0.535     0.435   0.150  ...          0.1385         0.250      9\n",
            "M     0.470     0.375   0.130  ...          0.1320         0.145      8\n",
            "M     0.470     0.370   0.130  ...          0.1330         0.165      7\n",
            "F     0.475     0.375   0.125  ...          0.0850         0.155     10\n",
            "\n",
            "[100 rows x 8 columns]\n",
            "     Length  Diameter  Height  ...  Viscera weight  Shell weight  Rings\n",
            "Sex                            ...                                     \n",
            "M     0.455     0.365   0.095  ...          0.1010         0.150      1\n",
            "M     0.350     0.265   0.090  ...          0.0485         0.070      0\n",
            "F     0.530     0.420   0.135  ...          0.1415         0.210      1\n",
            "M     0.440     0.365   0.125  ...          0.1140         0.155      1\n",
            "I     0.330     0.255   0.080  ...          0.0395         0.055      0\n",
            "..      ...       ...     ...  ...             ...           ...    ...\n",
            "M     0.665     0.535   0.195  ...          0.3880         0.480      1\n",
            "M     0.535     0.435   0.150  ...          0.1385         0.250      1\n",
            "M     0.470     0.375   0.130  ...          0.1320         0.145      0\n",
            "M     0.470     0.370   0.130  ...          0.1330         0.165      0\n",
            "F     0.475     0.375   0.125  ...          0.0850         0.155      1\n",
            "\n",
            "[100 rows x 8 columns]\n"
          ],
          "name": "stdout"
        },
        {
          "output_type": "stream",
          "text": [
            "/usr/local/lib/python3.6/dist-packages/statsmodels/base/model.py:1752: ValueWarning: covariance of constraints does not have full rank. The number of constraints is 51, but rank is 2\n",
            "  'rank is %d' % (J, J_), ValueWarning)\n",
            "/usr/local/lib/python3.6/dist-packages/statsmodels/base/model.py:1752: ValueWarning: covariance of constraints does not have full rank. The number of constraints is 46, but rank is 2\n",
            "  'rank is %d' % (J, J_), ValueWarning)\n",
            "/usr/local/lib/python3.6/dist-packages/statsmodels/base/model.py:1752: ValueWarning: covariance of constraints does not have full rank. The number of constraints is 2346, but rank is 87\n",
            "  'rank is %d' % (J, J_), ValueWarning)\n"
          ],
          "name": "stderr"
        },
        {
          "output_type": "stream",
          "text": [
            "                           sum_sq      df         F    PR(>F)\n",
            "C(Length)                0.369190    51.0  0.036752  0.964033\n",
            "C(Diameter)              8.504983    46.0  0.938677  0.420352\n",
            "C(Length):C(Diameter)  840.970045  2346.0  1.819923  0.136171\n",
            "Residual                 2.166667    11.0       NaN       NaN\n"
          ],
          "name": "stdout"
        },
        {
          "output_type": "display_data",
          "data": {
            "image/png": "[encoded data removed]",
            "text/plain": [
              "<Figure size 432x288 with 1 Axes>"
            ]
          },
          "metadata": {
            "tags": []
          }
        }
      ]
    },
    {
      "cell_type": "code",
      "metadata": {
        "id": "Dju36VS_qCqp",
        "colab_type": "code",
        "outputId": "3e78e9ae-1370-41df-d597-f8803738973b",
        "colab": {
          "base_uri": "https://localhost:8080/",
          "height": 34
        }
      },
      "source": [
        "from sklearn.neighbors import KNeighborsClassifier\n",
        "\n",
        "for i in range(y_train.size):\n",
        "    if y_train[i] == 'F':\n",
        "        y_train[i]='M'\n",
        "\n",
        "for i in range(y_test.size):\n",
        "    if y_test[i] == 'F':\n",
        "        y_test[i]='M'\n",
        "\n",
        "knn = KNeighborsClassifier(n_neighbors=5, p=2, metric='minkowski')\n",
        "knn.fit(X_train_std, y_train)\n",
        "\n",
        "print(knn.score(X_test_std, y_test))\n"
      ],
      "execution_count": 0,
      "outputs": [
        {
          "output_type": "stream",
          "text": [
            "0.8111111111111111\n"
          ],
          "name": "stdout"
        }
      ]
    }
  ]
}